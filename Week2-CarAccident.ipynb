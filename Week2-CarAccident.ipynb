{
 "metadata": {
  "language_info": {
   "codemirror_mode": {
    "name": "ipython",
    "version": 3
   },
   "file_extension": ".py",
   "mimetype": "text/x-python",
   "name": "python",
   "nbconvert_exporter": "python",
   "pygments_lexer": "ipython3",
   "version": "3.8.5-final"
  },
  "orig_nbformat": 2,
  "kernelspec": {
   "name": "python_defaultSpec_1599845246134",
   "display_name": "Python 3.8.5 64-bit"
  }
 },
 "nbformat": 4,
 "nbformat_minor": 2,
 "cells": [
  {
   "cell_type": "markdown",
   "metadata": {},
   "source": [
    "# Capstone Project - Car accident severity\n"
   ]
  },
  {
   "cell_type": "markdown",
   "metadata": {},
   "source": [
    "## Applied Data Science Capstone by IBM/Coursera"
   ]
  },
  {
   "cell_type": "markdown",
   "metadata": {},
   "source": [
    "### Table of contents\n",
    "* <a href='#section-1'>Introduction: Business Problem and Background</a>\n",
    "<br />\n",
    "* <a href='#section-2'>Data</a>"
   ]
  },
  {
   "cell_type": "markdown",
   "metadata": {},
   "source": [
    "## <a id='section-1'>Introduction: Business Problem and Background</a>"
   ]
  },
  {
   "cell_type": "markdown",
   "metadata": {},
   "source": [
    "With the high increase in car accidents recently, the Seattle government and related department want some insightful information that can be transformed into action to prevent avoidable car accidents.\n",
    "\n",
    "Most of the reasons for the accidents are not paying enough attention during driving, abusing drugs, alcohol, or driving over speed control/limits. Besides, the uncontrollable reasons as weather, visibility, or road condition can be prevented with the collected data and warning to the related departments as local government, police, and driving drivers."
   ]
  },
  {
   "cell_type": "markdown",
   "metadata": {},
   "source": [
    "## <a id='section-2'>Data</a>"
   ]
  },
  {
   "cell_type": "markdown",
   "metadata": {},
   "source": [
    "\n",
    "We chose the unbalanced dataset provided by the Seattle Department of Transportation Traffic Management Division with 194673 rows (accidents) and 37 columns (features) where each accident is given a severity code. It covers accidents from January 2004 to May 2020. Some of the features in this dataset include and are not limited to Severity code, Location/Address of accident, Weather condition at the incident site, Driver state (whether under influence or not), collision type. Hence we think its a good generalized dataset which will help us in creating an accurate predictive model. The unbalance with respect to the severity code in the dataset is as follows.\n",
    "\n",
    "SEVERITY CODE Count\n",
    "\n",
    "1 — 136485\n",
    "\n",
    "2 — 58188\n",
    "\n",
    "Other important variables include:\n",
    "\n",
    "* ADDRTYPE: Collision address type: Alley, Block, Intersection<br />\n",
    "* LOCATION: Description of the general location of the collision<br />\n",
    "* PERSONCOUNT: The total number of people involved in the collision helps identifyseverity level<br />\n",
    "* PEDCOUNT: The number of pedestrians involved in the collision helps identify severity level<br />\n",
    "* PEDCYLCOUNT: The number of bicycles involved in the collision helps identify severity level<br />\n",
    "* VEHCOUNT: The number of vehicles involved in the collision identify severity level<br />\n",
    "* JUNCTIONTYPE: Category of junction at which collision took place helps identify where most collisions occur<br />\n",
    "* WEATHER: A description of the weather conditions during the time of the collision<br />\n",
    "* ROADCOND: The condition of the road during the collision<br />\n",
    "* LIGHTCOND: The light conditions during the collision<br />\n",
    "* SPEEDING: Whether or not speeding was a factor in the collision (Y/N)<br />\n",
    "* SEGLANEKEY: A key for the lane segment in which the collision occurred<br />\n",
    "* CROSSWALKKEY: A key for the crosswalk at which the collision occurred<br />\n",
    "* HITPARKEDCAR: Whether or not the collision involved hitting a parked car<br />"
   ]
  },
  {
   "cell_type": "markdown",
   "metadata": {},
   "source": [
    "## <a id='section-3'>Methodology</a>"
   ]
  },
  {
   "cell_type": "code",
   "execution_count": 41,
   "metadata": {},
   "outputs": [],
   "source": [
    "#reading the data\n",
    "import pandas as pd\n",
    "import numpy as np"
   ]
  },
  {
   "cell_type": "code",
   "execution_count": 42,
   "metadata": {},
   "outputs": [
    {
     "output_type": "display_data",
     "data": {
      "text/plain": "        SEVERITYCODE           X          Y  OBJECTID  INCKEY  COLDETKEY  \\\n0                  2 -122.323148  47.703140         1    1307       1307   \n1                  1 -122.347294  47.647172         2   52200      52200   \n...              ...         ...        ...       ...     ...        ...   \n194671             2 -122.355317  47.678734    219546  309514     310794   \n194672             1 -122.289360  47.611017    219547  308220     309500   \n\n       REPORTNO   STATUS      ADDRTYPE   INTKEY  \\\n0       3502005  Matched  Intersection  37475.0   \n1       2607959  Matched         Block      NaN   \n...         ...      ...           ...      ...   \n194671  3810083  Matched  Intersection  24349.0   \n194672  E868008  Matched         Block      NaN   \n\n                                            LOCATION EXCEPTRSNCODE  \\\n0                         5TH AVE NE AND NE 103RD ST                 \n1         AURORA BR BETWEEN RAYE ST AND BRIDGE WAY N           NaN   \n...                                              ...           ...   \n194671                 GREENWOOD AVE N AND N 68TH ST                 \n194672  34TH AVE BETWEEN E MARION ST AND E SPRING ST                 \n\n       EXCEPTRSNDESC  SEVERITYCODE.1                    SEVERITYDESC  \\\n0                NaN               2                Injury Collision   \n1                NaN               1  Property Damage Only Collision   \n...              ...             ...                             ...   \n194671           NaN               2                Injury Collision   \n194672           NaN               1  Property Damage Only Collision   \n\n       COLLISIONTYPE  PERSONCOUNT  PEDCOUNT  PEDCYLCOUNT  VEHCOUNT  \\\n0             Angles            2         0            0         2   \n1          Sideswipe            2         0            0         2   \n...              ...          ...       ...          ...       ...   \n194671        Cycles            2         0            1         1   \n194672    Rear Ended            2         0            0         2   \n\n                       INCDATE                INCDTTM  \\\n0       2013/03/27 00:00:00+00   3/27/2013 2:54:00 PM   \n1       2006/12/20 00:00:00+00  12/20/2006 6:55:00 PM   \n...                        ...                    ...   \n194671  2019/01/15 00:00:00+00   1/15/2019 4:48:00 PM   \n194672  2018/11/30 00:00:00+00  11/30/2018 3:45:00 PM   \n\n                                   JUNCTIONTYPE  SDOT_COLCODE  \\\n0        At Intersection (intersection related)            11   \n1       Mid-Block (not related to intersection)            16   \n...                                         ...           ...   \n194671   At Intersection (intersection related)            51   \n194672  Mid-Block (not related to intersection)            14   \n\n                                                   SDOT_COLDESC  \\\n0        MOTOR VEHICLE STRUCK MOTOR VEHICLE, FRONT END AT ANGLE   \n1       MOTOR VEHICLE STRUCK MOTOR VEHICLE, LEFT SIDE SIDESWIPE   \n...                                                         ...   \n194671     PEDALCYCLIST STRUCK MOTOR VEHICLE FRONT END AT ANGLE   \n194672             MOTOR VEHICLE STRUCK MOTOR VEHICLE, REAR END   \n\n       INATTENTIONIND UNDERINFL   WEATHER ROADCOND                LIGHTCOND  \\\n0                 NaN         N  Overcast      Wet                 Daylight   \n1                 NaN         0   Raining      Wet  Dark - Street Lights On   \n...               ...       ...       ...      ...                      ...   \n194671            NaN         N     Clear      Dry                     Dusk   \n194672            NaN         N     Clear      Wet                 Daylight   \n\n       PEDROWNOTGRNT  SDOTCOLNUM SPEEDING ST_COLCODE  \\\n0                NaN         NaN      NaN         10   \n1                NaN   6354039.0      NaN         11   \n...              ...         ...      ...        ...   \n194671           NaN         NaN      NaN          5   \n194672           NaN         NaN      NaN         14   \n\n                                                                 ST_COLDESC  \\\n0                                                         Entering at angle   \n1       From same direction - both going straight - both moving - sideswipe   \n...                                                                     ...   \n194671                                         Vehicle Strikes Pedalcyclist   \n194672   From same direction - both going straight - one stopped - rear-end   \n\n        SEGLANEKEY  CROSSWALKKEY HITPARKEDCAR  \n0                0             0            N  \n1                0             0            N  \n...            ...           ...          ...  \n194671        4308             0            N  \n194672           0             0            N  \n\n[194673 rows x 38 columns]",
      "text/html": "<div>\n<style scoped>\n    .dataframe tbody tr th:only-of-type {\n        vertical-align: middle;\n    }\n\n    .dataframe tbody tr th {\n        vertical-align: top;\n    }\n\n    .dataframe thead th {\n        text-align: right;\n    }\n</style>\n<table border=\"1\" class=\"dataframe\">\n  <thead>\n    <tr style=\"text-align: right;\">\n      <th></th>\n      <th>SEVERITYCODE</th>\n      <th>X</th>\n      <th>Y</th>\n      <th>OBJECTID</th>\n      <th>INCKEY</th>\n      <th>COLDETKEY</th>\n      <th>REPORTNO</th>\n      <th>STATUS</th>\n      <th>ADDRTYPE</th>\n      <th>INTKEY</th>\n      <th>LOCATION</th>\n      <th>EXCEPTRSNCODE</th>\n      <th>EXCEPTRSNDESC</th>\n      <th>SEVERITYCODE.1</th>\n      <th>SEVERITYDESC</th>\n      <th>COLLISIONTYPE</th>\n      <th>PERSONCOUNT</th>\n      <th>PEDCOUNT</th>\n      <th>PEDCYLCOUNT</th>\n      <th>VEHCOUNT</th>\n      <th>INCDATE</th>\n      <th>INCDTTM</th>\n      <th>JUNCTIONTYPE</th>\n      <th>SDOT_COLCODE</th>\n      <th>SDOT_COLDESC</th>\n      <th>INATTENTIONIND</th>\n      <th>UNDERINFL</th>\n      <th>WEATHER</th>\n      <th>ROADCOND</th>\n      <th>LIGHTCOND</th>\n      <th>PEDROWNOTGRNT</th>\n      <th>SDOTCOLNUM</th>\n      <th>SPEEDING</th>\n      <th>ST_COLCODE</th>\n      <th>ST_COLDESC</th>\n      <th>SEGLANEKEY</th>\n      <th>CROSSWALKKEY</th>\n      <th>HITPARKEDCAR</th>\n    </tr>\n  </thead>\n  <tbody>\n    <tr>\n      <th>0</th>\n      <td>2</td>\n      <td>-122.323148</td>\n      <td>47.703140</td>\n      <td>1</td>\n      <td>1307</td>\n      <td>1307</td>\n      <td>3502005</td>\n      <td>Matched</td>\n      <td>Intersection</td>\n      <td>37475.0</td>\n      <td>5TH AVE NE AND NE 103RD ST</td>\n      <td></td>\n      <td>NaN</td>\n      <td>2</td>\n      <td>Injury Collision</td>\n      <td>Angles</td>\n      <td>2</td>\n      <td>0</td>\n      <td>0</td>\n      <td>2</td>\n      <td>2013/03/27 00:00:00+00</td>\n      <td>3/27/2013 2:54:00 PM</td>\n      <td>At Intersection (intersection related)</td>\n      <td>11</td>\n      <td>MOTOR VEHICLE STRUCK MOTOR VEHICLE, FRONT END AT ANGLE</td>\n      <td>NaN</td>\n      <td>N</td>\n      <td>Overcast</td>\n      <td>Wet</td>\n      <td>Daylight</td>\n      <td>NaN</td>\n      <td>NaN</td>\n      <td>NaN</td>\n      <td>10</td>\n      <td>Entering at angle</td>\n      <td>0</td>\n      <td>0</td>\n      <td>N</td>\n    </tr>\n    <tr>\n      <th>1</th>\n      <td>1</td>\n      <td>-122.347294</td>\n      <td>47.647172</td>\n      <td>2</td>\n      <td>52200</td>\n      <td>52200</td>\n      <td>2607959</td>\n      <td>Matched</td>\n      <td>Block</td>\n      <td>NaN</td>\n      <td>AURORA BR BETWEEN RAYE ST AND BRIDGE WAY N</td>\n      <td>NaN</td>\n      <td>NaN</td>\n      <td>1</td>\n      <td>Property Damage Only Collision</td>\n      <td>Sideswipe</td>\n      <td>2</td>\n      <td>0</td>\n      <td>0</td>\n      <td>2</td>\n      <td>2006/12/20 00:00:00+00</td>\n      <td>12/20/2006 6:55:00 PM</td>\n      <td>Mid-Block (not related to intersection)</td>\n      <td>16</td>\n      <td>MOTOR VEHICLE STRUCK MOTOR VEHICLE, LEFT SIDE SIDESWIPE</td>\n      <td>NaN</td>\n      <td>0</td>\n      <td>Raining</td>\n      <td>Wet</td>\n      <td>Dark - Street Lights On</td>\n      <td>NaN</td>\n      <td>6354039.0</td>\n      <td>NaN</td>\n      <td>11</td>\n      <td>From same direction - both going straight - both moving - sideswipe</td>\n      <td>0</td>\n      <td>0</td>\n      <td>N</td>\n    </tr>\n    <tr>\n      <th>...</th>\n      <td>...</td>\n      <td>...</td>\n      <td>...</td>\n      <td>...</td>\n      <td>...</td>\n      <td>...</td>\n      <td>...</td>\n      <td>...</td>\n      <td>...</td>\n      <td>...</td>\n      <td>...</td>\n      <td>...</td>\n      <td>...</td>\n      <td>...</td>\n      <td>...</td>\n      <td>...</td>\n      <td>...</td>\n      <td>...</td>\n      <td>...</td>\n      <td>...</td>\n      <td>...</td>\n      <td>...</td>\n      <td>...</td>\n      <td>...</td>\n      <td>...</td>\n      <td>...</td>\n      <td>...</td>\n      <td>...</td>\n      <td>...</td>\n      <td>...</td>\n      <td>...</td>\n      <td>...</td>\n      <td>...</td>\n      <td>...</td>\n      <td>...</td>\n      <td>...</td>\n      <td>...</td>\n      <td>...</td>\n    </tr>\n    <tr>\n      <th>194671</th>\n      <td>2</td>\n      <td>-122.355317</td>\n      <td>47.678734</td>\n      <td>219546</td>\n      <td>309514</td>\n      <td>310794</td>\n      <td>3810083</td>\n      <td>Matched</td>\n      <td>Intersection</td>\n      <td>24349.0</td>\n      <td>GREENWOOD AVE N AND N 68TH ST</td>\n      <td></td>\n      <td>NaN</td>\n      <td>2</td>\n      <td>Injury Collision</td>\n      <td>Cycles</td>\n      <td>2</td>\n      <td>0</td>\n      <td>1</td>\n      <td>1</td>\n      <td>2019/01/15 00:00:00+00</td>\n      <td>1/15/2019 4:48:00 PM</td>\n      <td>At Intersection (intersection related)</td>\n      <td>51</td>\n      <td>PEDALCYCLIST STRUCK MOTOR VEHICLE FRONT END AT ANGLE</td>\n      <td>NaN</td>\n      <td>N</td>\n      <td>Clear</td>\n      <td>Dry</td>\n      <td>Dusk</td>\n      <td>NaN</td>\n      <td>NaN</td>\n      <td>NaN</td>\n      <td>5</td>\n      <td>Vehicle Strikes Pedalcyclist</td>\n      <td>4308</td>\n      <td>0</td>\n      <td>N</td>\n    </tr>\n    <tr>\n      <th>194672</th>\n      <td>1</td>\n      <td>-122.289360</td>\n      <td>47.611017</td>\n      <td>219547</td>\n      <td>308220</td>\n      <td>309500</td>\n      <td>E868008</td>\n      <td>Matched</td>\n      <td>Block</td>\n      <td>NaN</td>\n      <td>34TH AVE BETWEEN E MARION ST AND E SPRING ST</td>\n      <td></td>\n      <td>NaN</td>\n      <td>1</td>\n      <td>Property Damage Only Collision</td>\n      <td>Rear Ended</td>\n      <td>2</td>\n      <td>0</td>\n      <td>0</td>\n      <td>2</td>\n      <td>2018/11/30 00:00:00+00</td>\n      <td>11/30/2018 3:45:00 PM</td>\n      <td>Mid-Block (not related to intersection)</td>\n      <td>14</td>\n      <td>MOTOR VEHICLE STRUCK MOTOR VEHICLE, REAR END</td>\n      <td>NaN</td>\n      <td>N</td>\n      <td>Clear</td>\n      <td>Wet</td>\n      <td>Daylight</td>\n      <td>NaN</td>\n      <td>NaN</td>\n      <td>NaN</td>\n      <td>14</td>\n      <td>From same direction - both going straight - one stopped - rear-end</td>\n      <td>0</td>\n      <td>0</td>\n      <td>N</td>\n    </tr>\n  </tbody>\n</table>\n<p>194673 rows × 38 columns</p>\n</div>"
     },
     "metadata": {}
    }
   ],
   "source": [
    "df = pd.read_csv(\"Data-Collisions.csv\")\n",
    "with pd.option_context('display.max_rows', 5, 'display.max_columns', None): \n",
    "    display(df)"
   ]
  },
  {
   "cell_type": "code",
   "execution_count": 43,
   "metadata": {
    "tags": []
   },
   "outputs": [
    {
     "output_type": "stream",
     "name": "stdout",
     "text": "1    136485\n2     58188\nName: SEVERITYCODE, dtype: int64\n--------------------------------------------------\nNumber of data points in data (194673, 37)\nNumber of data points in label (194673,)\n"
    }
   ],
   "source": [
    "print(df[\"SEVERITYCODE\"].value_counts())\n",
    "print('-'*50)\n",
    "y = df[\"SEVERITYCODE\"].values\n",
    "df.drop([\"SEVERITYCODE.1\"], axis=1, inplace=True)\n",
    "print(\"Number of data points in data\", df.shape)\n",
    "print(\"Number of data points in label\", y.shape)"
   ]
  },
  {
   "cell_type": "code",
   "execution_count": 44,
   "metadata": {},
   "outputs": [
    {
     "output_type": "execute_result",
     "data": {
      "text/plain": "Index(['SEVERITYCODE', 'X', 'Y', 'OBJECTID', 'INCKEY', 'COLDETKEY', 'REPORTNO',\n       'STATUS', 'ADDRTYPE', 'INTKEY', 'LOCATION', 'EXCEPTRSNCODE',\n       'EXCEPTRSNDESC', 'SEVERITYDESC', 'COLLISIONTYPE', 'PERSONCOUNT',\n       'PEDCOUNT', 'PEDCYLCOUNT', 'VEHCOUNT', 'INCDATE', 'INCDTTM',\n       'JUNCTIONTYPE', 'SDOT_COLCODE', 'SDOT_COLDESC', 'INATTENTIONIND',\n       'UNDERINFL', 'WEATHER', 'ROADCOND', 'LIGHTCOND', 'PEDROWNOTGRNT',\n       'SDOTCOLNUM', 'SPEEDING', 'ST_COLCODE', 'ST_COLDESC', 'SEGLANEKEY',\n       'CROSSWALKKEY', 'HITPARKEDCAR'],\n      dtype='object')"
     },
     "metadata": {},
     "execution_count": 44
    }
   ],
   "source": [
    "df.columns"
   ]
  },
  {
   "cell_type": "markdown",
   "metadata": {},
   "source": [
    "## <a id='section-3'>Data Preprocessing</a>"
   ]
  },
  {
   "cell_type": "markdown",
   "metadata": {},
   "source": [
    "1. Removal of irrelevant columns<br />\n",
    "\n",
    "Columns containing descriptions and identification numbers that would not help in the classification are dropped from the data set to reduce the complexity and dimensionality of the data set. ‘OBJECTID’, ‘INCKEY’, ‘COLDETKEY’, ‘REPORTNO’, ‘STATUS’, ‘INTKEY’, ‘EXCEPTRSNCODE’ and more belong to this category. Certain other categorical features were removed as they had a large number of distinct values, example: ‘LOCATION’."
   ]
  },
  {
   "cell_type": "code",
   "execution_count": 45,
   "metadata": {},
   "outputs": [],
   "source": [
    "df.drop([\"OBJECTID\", \"INCKEY\", \"COLDETKEY\", \"REPORTNO\", \"STATUS\",\"INTKEY\", \"EXCEPTRSNCODE\", \"EXCEPTRSNDESC\", \"INATTENTIONIND\", \"UNDERINFL\", \"PEDROWNOTGRNT\", \"SDOT_COLDESC\", \"LOCATION\"], axis=1, inplace=True)"
   ]
  },
  {
   "cell_type": "code",
   "execution_count": 48,
   "metadata": {},
   "outputs": [
    {
     "output_type": "execute_result",
     "data": {
      "text/plain": "(194673, 24)"
     },
     "metadata": {},
     "execution_count": 48
    }
   ],
   "source": [
    "df.shape"
   ]
  },
  {
   "cell_type": "code",
   "execution_count": 47,
   "metadata": {},
   "outputs": [
    {
     "output_type": "execute_result",
     "data": {
      "text/plain": "   SEVERITYCODE           X          Y      ADDRTYPE  \\\n0             2 -122.323148  47.703140  Intersection   \n1             1 -122.347294  47.647172         Block   \n2             1 -122.334540  47.607871         Block   \n3             1 -122.334803  47.604803         Block   \n4             2 -122.306426  47.545739  Intersection   \n\n                     SEVERITYDESC COLLISIONTYPE  PERSONCOUNT  PEDCOUNT  \\\n0                Injury Collision        Angles            2         0   \n1  Property Damage Only Collision     Sideswipe            2         0   \n2  Property Damage Only Collision    Parked Car            4         0   \n3  Property Damage Only Collision         Other            3         0   \n4                Injury Collision        Angles            2         0   \n\n   PEDCYLCOUNT  VEHCOUNT                 INCDATE                 INCDTTM  \\\n0            0         2  2013/03/27 00:00:00+00    3/27/2013 2:54:00 PM   \n1            0         2  2006/12/20 00:00:00+00   12/20/2006 6:55:00 PM   \n2            0         3  2004/11/18 00:00:00+00  11/18/2004 10:20:00 AM   \n3            0         3  2013/03/29 00:00:00+00    3/29/2013 9:26:00 AM   \n4            0         2  2004/01/28 00:00:00+00    1/28/2004 8:04:00 AM   \n\n                              JUNCTIONTYPE  SDOT_COLCODE   WEATHER ROADCOND  \\\n0   At Intersection (intersection related)            11  Overcast      Wet   \n1  Mid-Block (not related to intersection)            16   Raining      Wet   \n2  Mid-Block (not related to intersection)            14  Overcast      Dry   \n3  Mid-Block (not related to intersection)            11     Clear      Dry   \n4   At Intersection (intersection related)            11   Raining      Wet   \n\n                 LIGHTCOND  SDOTCOLNUM SPEEDING ST_COLCODE  \\\n0                 Daylight         NaN      NaN         10   \n1  Dark - Street Lights On   6354039.0      NaN         11   \n2                 Daylight   4323031.0      NaN         32   \n3                 Daylight         NaN      NaN         23   \n4                 Daylight   4028032.0      NaN         10   \n\n                                                            ST_COLDESC  \\\n0                                                    Entering at angle   \n1  From same direction - both going straight - both moving - sideswipe   \n2                                               One parked--one moving   \n3                                     From same direction - all others   \n4                                                    Entering at angle   \n\n   SEGLANEKEY  CROSSWALKKEY HITPARKEDCAR  \n0           0             0            N  \n1           0             0            N  \n2           0             0            N  \n3           0             0            N  \n4           0             0            N  ",
      "text/html": "<div>\n<style scoped>\n    .dataframe tbody tr th:only-of-type {\n        vertical-align: middle;\n    }\n\n    .dataframe tbody tr th {\n        vertical-align: top;\n    }\n\n    .dataframe thead th {\n        text-align: right;\n    }\n</style>\n<table border=\"1\" class=\"dataframe\">\n  <thead>\n    <tr style=\"text-align: right;\">\n      <th></th>\n      <th>SEVERITYCODE</th>\n      <th>X</th>\n      <th>Y</th>\n      <th>ADDRTYPE</th>\n      <th>SEVERITYDESC</th>\n      <th>COLLISIONTYPE</th>\n      <th>PERSONCOUNT</th>\n      <th>PEDCOUNT</th>\n      <th>PEDCYLCOUNT</th>\n      <th>VEHCOUNT</th>\n      <th>INCDATE</th>\n      <th>INCDTTM</th>\n      <th>JUNCTIONTYPE</th>\n      <th>SDOT_COLCODE</th>\n      <th>WEATHER</th>\n      <th>ROADCOND</th>\n      <th>LIGHTCOND</th>\n      <th>SDOTCOLNUM</th>\n      <th>SPEEDING</th>\n      <th>ST_COLCODE</th>\n      <th>ST_COLDESC</th>\n      <th>SEGLANEKEY</th>\n      <th>CROSSWALKKEY</th>\n      <th>HITPARKEDCAR</th>\n    </tr>\n  </thead>\n  <tbody>\n    <tr>\n      <th>0</th>\n      <td>2</td>\n      <td>-122.323148</td>\n      <td>47.703140</td>\n      <td>Intersection</td>\n      <td>Injury Collision</td>\n      <td>Angles</td>\n      <td>2</td>\n      <td>0</td>\n      <td>0</td>\n      <td>2</td>\n      <td>2013/03/27 00:00:00+00</td>\n      <td>3/27/2013 2:54:00 PM</td>\n      <td>At Intersection (intersection related)</td>\n      <td>11</td>\n      <td>Overcast</td>\n      <td>Wet</td>\n      <td>Daylight</td>\n      <td>NaN</td>\n      <td>NaN</td>\n      <td>10</td>\n      <td>Entering at angle</td>\n      <td>0</td>\n      <td>0</td>\n      <td>N</td>\n    </tr>\n    <tr>\n      <th>1</th>\n      <td>1</td>\n      <td>-122.347294</td>\n      <td>47.647172</td>\n      <td>Block</td>\n      <td>Property Damage Only Collision</td>\n      <td>Sideswipe</td>\n      <td>2</td>\n      <td>0</td>\n      <td>0</td>\n      <td>2</td>\n      <td>2006/12/20 00:00:00+00</td>\n      <td>12/20/2006 6:55:00 PM</td>\n      <td>Mid-Block (not related to intersection)</td>\n      <td>16</td>\n      <td>Raining</td>\n      <td>Wet</td>\n      <td>Dark - Street Lights On</td>\n      <td>6354039.0</td>\n      <td>NaN</td>\n      <td>11</td>\n      <td>From same direction - both going straight - both moving - sideswipe</td>\n      <td>0</td>\n      <td>0</td>\n      <td>N</td>\n    </tr>\n    <tr>\n      <th>2</th>\n      <td>1</td>\n      <td>-122.334540</td>\n      <td>47.607871</td>\n      <td>Block</td>\n      <td>Property Damage Only Collision</td>\n      <td>Parked Car</td>\n      <td>4</td>\n      <td>0</td>\n      <td>0</td>\n      <td>3</td>\n      <td>2004/11/18 00:00:00+00</td>\n      <td>11/18/2004 10:20:00 AM</td>\n      <td>Mid-Block (not related to intersection)</td>\n      <td>14</td>\n      <td>Overcast</td>\n      <td>Dry</td>\n      <td>Daylight</td>\n      <td>4323031.0</td>\n      <td>NaN</td>\n      <td>32</td>\n      <td>One parked--one moving</td>\n      <td>0</td>\n      <td>0</td>\n      <td>N</td>\n    </tr>\n    <tr>\n      <th>3</th>\n      <td>1</td>\n      <td>-122.334803</td>\n      <td>47.604803</td>\n      <td>Block</td>\n      <td>Property Damage Only Collision</td>\n      <td>Other</td>\n      <td>3</td>\n      <td>0</td>\n      <td>0</td>\n      <td>3</td>\n      <td>2013/03/29 00:00:00+00</td>\n      <td>3/29/2013 9:26:00 AM</td>\n      <td>Mid-Block (not related to intersection)</td>\n      <td>11</td>\n      <td>Clear</td>\n      <td>Dry</td>\n      <td>Daylight</td>\n      <td>NaN</td>\n      <td>NaN</td>\n      <td>23</td>\n      <td>From same direction - all others</td>\n      <td>0</td>\n      <td>0</td>\n      <td>N</td>\n    </tr>\n    <tr>\n      <th>4</th>\n      <td>2</td>\n      <td>-122.306426</td>\n      <td>47.545739</td>\n      <td>Intersection</td>\n      <td>Injury Collision</td>\n      <td>Angles</td>\n      <td>2</td>\n      <td>0</td>\n      <td>0</td>\n      <td>2</td>\n      <td>2004/01/28 00:00:00+00</td>\n      <td>1/28/2004 8:04:00 AM</td>\n      <td>At Intersection (intersection related)</td>\n      <td>11</td>\n      <td>Raining</td>\n      <td>Wet</td>\n      <td>Daylight</td>\n      <td>4028032.0</td>\n      <td>NaN</td>\n      <td>10</td>\n      <td>Entering at angle</td>\n      <td>0</td>\n      <td>0</td>\n      <td>N</td>\n    </tr>\n  </tbody>\n</table>\n</div>"
     },
     "metadata": {},
     "execution_count": 47
    }
   ],
   "source": [
    "df.head()"
   ]
  },
  {
   "cell_type": "markdown",
   "metadata": {},
   "source": [
    "2.Identification and handling missing values"
   ]
  },
  {
   "cell_type": "code",
   "execution_count": 50,
   "metadata": {},
   "outputs": [],
   "source": [
    "df.replace(r'^\\s*$', np.nan, regex=True)\n",
    "df.replace(\"Unknown\", np.nan, inplace=True)\n",
    "df.replace(\"Other\", np.nan, inplace=True)"
   ]
  },
  {
   "cell_type": "code",
   "execution_count": 51,
   "metadata": {},
   "outputs": [
    {
     "output_type": "execute_result",
     "data": {
      "text/plain": "Clear                       111135\nRaining                      33145\nOvercast                     27714\nSnowing                        907\nFog/Smog/Smoke                 569\nSleet/Hail/Freezing Rain       113\nBlowing Sand/Dirt               56\nSevere Crosswind                25\nPartly Cloudy                    5\nName: WEATHER, dtype: int64"
     },
     "metadata": {},
     "execution_count": 51
    }
   ],
   "source": [
    "df[\"WEATHER\"].value_counts()"
   ]
  },
  {
   "cell_type": "code",
   "execution_count": 53,
   "metadata": {},
   "outputs": [
    {
     "output_type": "execute_result",
     "data": {
      "text/plain": "Dry               124510\nWet                47474\nIce                 1209\nSnow/Slush          1004\nStanding Water       115\nSand/Mud/Dirt         75\nOil                   64\nName: ROADCOND, dtype: int64"
     },
     "metadata": {},
     "execution_count": 53
    }
   ],
   "source": [
    "df[\"ROADCOND\"].value_counts()"
   ]
  },
  {
   "cell_type": "code",
   "execution_count": 54,
   "metadata": {},
   "outputs": [
    {
     "output_type": "execute_result",
     "data": {
      "text/plain": "Daylight                    116137\nDark - Street Lights On      48507\nDusk                          5902\nDawn                          2502\nDark - No Street Lights       1537\nDark - Street Lights Off      1199\nDark - Unknown Lighting         11\nName: LIGHTCOND, dtype: int64"
     },
     "metadata": {},
     "execution_count": 54
    }
   ],
   "source": [
    "df[\"LIGHTCOND\"].value_counts()"
   ]
  },
  {
   "cell_type": "code",
   "execution_count": 55,
   "metadata": {},
   "outputs": [
    {
     "output_type": "execute_result",
     "data": {
      "text/plain": "Property Damage Only Collision    136485\nInjury Collision                   58188\nName: SEVERITYDESC, dtype: int64"
     },
     "metadata": {},
     "execution_count": 55
    }
   ],
   "source": [
    "df[\"SEVERITYDESC\"].value_counts()"
   ]
  },
  {
   "cell_type": "code",
   "execution_count": null,
   "metadata": {},
   "outputs": [],
   "source": []
  }
 ]
}